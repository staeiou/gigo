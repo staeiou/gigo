{
 "cells": [
  {
   "cell_type": "code",
   "execution_count": null,
   "metadata": {
    "collapsed": true
   },
   "outputs": [],
   "source": [
    "import pandas as pd\n",
    "import numpy as np\n",
    "import seaborn as sns\n",
    "import glob\n",
    "import datetime\n",
    "import lxml.etree as ET\n",
    "from xml.dom import minidom\n",
    "%matplotlib inline"
   ]
  },
  {
   "cell_type": "markdown",
   "metadata": {},
   "source": [
    "## Import processed data "
   ]
  },
  {
   "cell_type": "code",
   "execution_count": null,
   "metadata": {},
   "outputs": [],
   "source": [
    "df_all = pd.read_hdf(\"processed_data/arxiv-oai-af.h5\", key='df')\n",
    "df_ml = pd.read_hdf(\"processed_data/arxiv-oai-af-anyml.h5\", key='df')"
   ]
  },
  {
   "cell_type": "code",
   "execution_count": null,
   "metadata": {},
   "outputs": [],
   "source": [
    "df_all[0:2].transpose()"
   ]
  },
  {
   "cell_type": "code",
   "execution_count": null,
   "metadata": {
    "collapsed": true
   },
   "outputs": [],
   "source": [
    "def list_to_string(l):\n",
    "    return ', '.join(l)"
   ]
  },
  {
   "cell_type": "code",
   "execution_count": null,
   "metadata": {},
   "outputs": [],
   "source": [
    "df_all.abstract = df_all.abstract.apply(str.replace,args=(\"\\n\",\" \"))\n",
    "df_all.title = df_all.title.apply(str.replace,args=(\"\\n\",\" \"))"
   ]
  },
  {
   "cell_type": "code",
   "execution_count": null,
   "metadata": {},
   "outputs": [],
   "source": [
    "df_all['categories_str'] = df_all.categories.apply(list_to_string)"
   ]
  },
  {
   "cell_type": "code",
   "execution_count": null,
   "metadata": {},
   "outputs": [],
   "source": [
    "categories = []\n",
    "\n",
    "for row in df_all.iterrows():\n",
    "    for cat in row[1].categories:\n",
    "        #print(cat)\n",
    "        if cat not in categories:\n",
    "            categories.append(cat)\n",
    "      "
   ]
  },
  {
   "cell_type": "code",
   "execution_count": null,
   "metadata": {},
   "outputs": [],
   "source": [
    "categories.sort()\n",
    "len(categories)"
   ]
  },
  {
   "cell_type": "code",
   "execution_count": null,
   "metadata": {
    "collapsed": true
   },
   "outputs": [],
   "source": [
    "df_dict = {}\n",
    "\n",
    "for cat in categories:\n",
    "    df_dict[cat] = pd.DataFrame(columns=df_all.columns)"
   ]
  },
  {
   "cell_type": "code",
   "execution_count": null,
   "metadata": {},
   "outputs": [],
   "source": [
    "count = 0\n",
    "        \n",
    "for row in df_all.iterrows():\n",
    "    for cat in row[1].categories:\n",
    "        df_dict[cat] = df_dict[cat].append(row[1])\n",
    "        \n",
    "    if count % 25000 is 0:\n",
    "        print(count)\n",
    "    count += 1"
   ]
  },
  {
   "cell_type": "code",
   "execution_count": null,
   "metadata": {
    "collapsed": true
   },
   "outputs": [],
   "source": [
    "df_dict_generic = df_dict.copy()"
   ]
  },
  {
   "cell_type": "code",
   "execution_count": null,
   "metadata": {},
   "outputs": [],
   "source": [
    "for cat in categories:\n",
    "    df_dict_generic[cat].drop(labels=['anymlcat', 'cs.AI', 'cs.CL', 'cs.LG', 'cs.SI', 'stat.ML'],\n",
    "                              axis=1, inplace=True)"
   ]
  },
  {
   "cell_type": "code",
   "execution_count": null,
   "metadata": {},
   "outputs": [],
   "source": [
    "for cat in categories:\n",
    "    print(cat, len(df_dict_generic[cat]))"
   ]
  },
  {
   "cell_type": "code",
   "execution_count": null,
   "metadata": {
    "collapsed": true
   },
   "outputs": [],
   "source": [
    "!rm processed_data/arxiv_oaiaf_catkey.h5"
   ]
  },
  {
   "cell_type": "code",
   "execution_count": null,
   "metadata": {},
   "outputs": [],
   "source": []
  },
  {
   "cell_type": "code",
   "execution_count": null,
   "metadata": {},
   "outputs": [],
   "source": [
    "for cat in categories:\n",
    "    fn = \"processed_data/per_category/\" + cat\n",
    "    df_dict_generic[cat].to_csv(fn+\".tsv\", sep=\"\\t\", mode=\"w\")\n",
    "    df_dict_generic[cat].to_hdf(fn+\".h5\", key=\"df\", mode=\"w\")\n",
    "    cat_key = cat.replace(\".\",\"_\")\n",
    "    cat_key = cat_key.replace(\"-\",\"_\")\n",
    "    df_dict_generic[cat].to_hdf(\"processed_data/arxiv_oaiaf_catkey.h5\", key=cat_key, mode=\"a\")\n",
    "    "
   ]
  },
  {
   "cell_type": "code",
   "execution_count": null,
   "metadata": {},
   "outputs": [],
   "source": [
    "h = pd.HDFStore(\"processed_data/arxiv_oaiaf_catkey.h5\")\n",
    "h.physics_bio_ph"
   ]
  },
  {
   "cell_type": "code",
   "execution_count": null,
   "metadata": {},
   "outputs": [],
   "source": [
    "for cat in ['cs.AI', 'cs.CL', 'cs.LG', 'cs.SI', 'stat.ML']:\n",
    "    print(len(df_dict[cat]))"
   ]
  }
 ],
 "metadata": {
  "kernelspec": {
   "display_name": "Python [default]",
   "language": "python",
   "name": "python3"
  },
  "language_info": {
   "codemirror_mode": {
    "name": "ipython",
    "version": 3
   },
   "file_extension": ".py",
   "mimetype": "text/x-python",
   "name": "python",
   "nbconvert_exporter": "python",
   "pygments_lexer": "ipython3",
   "version": "3.5.4"
  }
 },
 "nbformat": 4,
 "nbformat_minor": 2
}
