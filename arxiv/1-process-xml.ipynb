{
 "cells": [
  {
   "cell_type": "code",
   "execution_count": null,
   "metadata": {
    "collapsed": true
   },
   "outputs": [],
   "source": [
    "import pandas as pd\n",
    "import numpy as np\n",
    "import seaborn as sns\n",
    "import glob\n",
    "import datetime\n",
    "import lxml.etree as ET\n",
    "from xml.dom import minidom\n",
    "import datetime\n",
    "%matplotlib inline"
   ]
  },
  {
   "cell_type": "code",
   "execution_count": null,
   "metadata": {
    "collapsed": true
   },
   "outputs": [],
   "source": [
    "start = datetime.datetime.now()\n"
   ]
  },
  {
   "cell_type": "code",
   "execution_count": null,
   "metadata": {
    "collapsed": true
   },
   "outputs": [],
   "source": [
    "def time_elapsed(start):\n",
    "    end = datetime.datetime.now()\n",
    "\n",
    "    time_to_run = end - start\n",
    "    minutes = int(time_to_run.seconds/60)\n",
    "    seconds = time_to_run.seconds % 60\n",
    "    print(\"Total runtime: \", minutes, \"minutes, \", seconds, \"seconds\")"
   ]
  },
  {
   "cell_type": "code",
   "execution_count": null,
   "metadata": {
    "collapsed": true
   },
   "outputs": [],
   "source": [
    "fn = glob.glob(\"/data/arxiv/oai-af/*\")"
   ]
  },
  {
   "cell_type": "code",
   "execution_count": null,
   "metadata": {
    "collapsed": true
   },
   "outputs": [],
   "source": [
    "len(fn)"
   ]
  },
  {
   "cell_type": "code",
   "execution_count": null,
   "metadata": {
    "collapsed": true
   },
   "outputs": [],
   "source": [
    "doc = minidom.parse(fn[2])\n",
    "print(doc.toprettyxml())"
   ]
  },
  {
   "cell_type": "code",
   "execution_count": null,
   "metadata": {
    "collapsed": true
   },
   "outputs": [],
   "source": [
    "def get_author_text(doc):\n",
    "    authorlist = []\n",
    "    authortext = \"\"\n",
    "    for author in doc.getElementsByTagName(\"authors\")[0].childNodes:\n",
    "        keyname = author.getElementsByTagName(\"keyname\")[0].firstChild.data\n",
    "        try:\n",
    "            forenames = author.getElementsByTagName(\"forenames\")[0].firstChild.data\n",
    "        except:\n",
    "            forenames = \"\"\n",
    "        authortext += forenames + \" \" + keyname + \", \"\n",
    "        authorlist.append(forenames + \" \" + keyname)\n",
    "    return authortext[:-2].replace(\"  \", \" \"), authorlist"
   ]
  },
  {
   "cell_type": "code",
   "execution_count": null,
   "metadata": {
    "collapsed": true
   },
   "outputs": [],
   "source": [
    "get_author_text(doc)"
   ]
  },
  {
   "cell_type": "code",
   "execution_count": null,
   "metadata": {
    "collapsed": true
   },
   "outputs": [],
   "source": [
    "df_list = []\n",
    "dates = []\n",
    "for file in fn[1:]:\n",
    "    \n",
    "    doc = minidom.parse(file)\n",
    "    title = doc.getElementsByTagName(\"title\")[0].firstChild.data\n",
    "    arxivid = doc.getElementsByTagName(\"id\")[0].firstChild.data\n",
    "    created = doc.getElementsByTagName(\"created\")[0].firstChild.data\n",
    "    categories = doc.getElementsByTagName(\"categories\")[0].firstChild.data\n",
    "    abstract = doc.getElementsByTagName(\"abstract\")[0].firstChild.data\n",
    "    \n",
    "    author_text, author_list = get_author_text(doc)\n",
    "    \n",
    "    num_authors = len(author_list)\n",
    "    \n",
    "    num_categories = len(categories.split(\" \"))\n",
    "    \n",
    "    try:\n",
    "        updated = doc.getElementsByTagName(\"updated\")[0].firstChild.data\n",
    "    except IndexError:\n",
    "        updated = np.nan\n",
    "        \n",
    "    try:\n",
    "        doi = doc.getElementsByTagName(\"doi\")[0].firstChild.data\n",
    "    except IndexError:\n",
    "        doi = np.nan \n",
    "        \n",
    "        \n",
    "    if 'cs.LG' in categories:\n",
    "        cslg = 1\n",
    "    else:\n",
    "        cslg = 0\n",
    "    \n",
    "    if 'cs.AI' in categories:\n",
    "        csai = 1\n",
    "    else:\n",
    "        csai = 0\n",
    "    \n",
    "    if 'stat.ML' in categories:\n",
    "        statml = 1\n",
    "    else:\n",
    "        statml = 0\n",
    "    \n",
    "    if 'cs.CL' in categories:\n",
    "        cscl = 1\n",
    "    else:\n",
    "        cscl = 0\n",
    "        \n",
    "    if 'cs.SI' in categories:\n",
    "        cssi = 1\n",
    "    else:\n",
    "        cssi = 0\n",
    "    \n",
    "    if sum([cslg,csai,cscl,cssi,statml]) > 0:\n",
    "        anymlcat = 1\n",
    "    else:\n",
    "        anymlcat = 0\n",
    "        \n",
    "        \n",
    "    row = {\n",
    "           'title':title,\n",
    "           'updated':updated,\n",
    "           'arxiv_id':arxivid,\n",
    "           'created':created,\n",
    "           'categories':categories.split(\" \"),\n",
    "           'num_categories':num_categories,\n",
    "           'abstract':abstract,\n",
    "           'doi':doi,\n",
    "           'cs.LG':cslg,\n",
    "           'cs.AI':csai,\n",
    "           'cs.CL':cscl,\n",
    "           'cs.SI':cssi,\n",
    "           'stat.ML':statml,\n",
    "           'anymlcat':anymlcat,\n",
    "           'author_text':author_text,\n",
    "           'num_authors':num_authors\n",
    "    }\n",
    "    \n",
    "    df_list.append(row)\n",
    "    \n",
    "    if len(df_list) % 25000 is 0:\n",
    "        print(len(df_list), time_elapsed(start))"
   ]
  },
  {
   "cell_type": "code",
   "execution_count": null,
   "metadata": {
    "collapsed": true
   },
   "outputs": [],
   "source": [
    "df = pd.DataFrame(df_list)"
   ]
  },
  {
   "cell_type": "code",
   "execution_count": null,
   "metadata": {
    "collapsed": true
   },
   "outputs": [],
   "source": [
    "len(df)"
   ]
  },
  {
   "cell_type": "code",
   "execution_count": null,
   "metadata": {
    "collapsed": true
   },
   "outputs": [],
   "source": [
    "print(df.query(\"arxiv_id == '1207.2757'\").author_text)"
   ]
  },
  {
   "cell_type": "code",
   "execution_count": null,
   "metadata": {
    "collapsed": true
   },
   "outputs": [],
   "source": [
    "df_anyml = df.query(\"anymlcat == 1\")"
   ]
  },
  {
   "cell_type": "code",
   "execution_count": null,
   "metadata": {
    "collapsed": true
   },
   "outputs": [],
   "source": [
    "len(df_anyml)"
   ]
  },
  {
   "cell_type": "code",
   "execution_count": null,
   "metadata": {
    "collapsed": true
   },
   "outputs": [],
   "source": [
    "df.to_csv(\"processed_data/arxiv-oai-af.tsv\", sep=\"\\t\")\n",
    "df.to_hdf(\"processed_data/arxiv-oai-af.h5\", key='df')\n"
   ]
  },
  {
   "cell_type": "code",
   "execution_count": null,
   "metadata": {
    "collapsed": true
   },
   "outputs": [],
   "source": [
    "df_anyml.to_csv(\"processed_data/arxiv-oai-af-anyml.tsv\", sep=\"\\t\")\n",
    "df_anyml.to_hdf(\"processed_data/arxiv-oai-af-anyml.h5\", key='df')"
   ]
  },
  {
   "cell_type": "code",
   "execution_count": null,
   "metadata": {
    "collapsed": true
   },
   "outputs": [],
   "source": [
    "end = datetime.datetime.now()\n",
    "\n",
    "time_to_run = end - start\n",
    "minutes = int(time_to_run.seconds/60)\n",
    "seconds = time_to_run.seconds % 60\n",
    "print(\"Total runtime: \", minutes, \"minutes, \", seconds, \"seconds\")\n"
   ]
  }
 ],
 "metadata": {
  "kernelspec": {
   "display_name": "Python [default]",
   "language": "python",
   "name": "python3"
  },
  "language_info": {
   "codemirror_mode": {
    "name": "ipython",
    "version": 3
   },
   "file_extension": ".py",
   "mimetype": "text/x-python",
   "name": "python",
   "nbconvert_exporter": "python",
   "pygments_lexer": "ipython3",
   "version": "3.5.4"
  }
 },
 "nbformat": 4,
 "nbformat_minor": 2
}
