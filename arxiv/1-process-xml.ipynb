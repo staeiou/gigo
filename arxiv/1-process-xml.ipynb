{
 "cells": [
  {
   "cell_type": "code",
   "execution_count": 1,
   "metadata": {
    "collapsed": true
   },
   "outputs": [],
   "source": [
    "import pandas as pd\n",
    "import numpy as np\n",
    "import seaborn as sns\n",
    "import glob\n",
    "import datetime\n",
    "import lxml.etree as ET\n",
    "from xml.dom import minidom\n",
    "%matplotlib inline"
   ]
  },
  {
   "cell_type": "code",
   "execution_count": 2,
   "metadata": {},
   "outputs": [],
   "source": [
    "fn = glob.glob(\"/data/arxiv/oai-af/*\")"
   ]
  },
  {
   "cell_type": "code",
   "execution_count": 3,
   "metadata": {},
   "outputs": [
    {
     "data": {
      "text/plain": [
       "1437618"
      ]
     },
     "execution_count": 3,
     "metadata": {},
     "output_type": "execute_result"
    }
   ],
   "source": [
    "len(fn)"
   ]
  },
  {
   "cell_type": "code",
   "execution_count": 4,
   "metadata": {},
   "outputs": [
    {
     "name": "stdout",
     "output_type": "stream",
     "text": [
      "<?xml version=\"1.0\" ?>\n",
      "<arXiv xmlns=\"http://arxiv.org/OAI/arXiv/\" xmlns:xsi=\"http://www.w3.org/2001/XMLSchema-instance\" xsi:schemaLocation=\"http://arxiv.org/OAI/arXiv/ http://arxiv.org/OAI/arXiv.xsd\">\n",
      "\t\n",
      " \n",
      "\t<id>cond-mat/0302169</id>\n",
      "\t<created>2003-02-10</created>\n",
      "\t<authors>\n",
      "\t\t<author>\n",
      "\t\t\t<keyname>van der Marel</keyname>\n",
      "\t\t\t<forenames>D.</forenames>\n",
      "\t\t</author>\n",
      "\t\t<author>\n",
      "\t\t\t<keyname>Molegraaf</keyname>\n",
      "\t\t\t<forenames>H. J. A.</forenames>\n",
      "\t\t</author>\n",
      "\t\t<author>\n",
      "\t\t\t<keyname>Presura</keyname>\n",
      "\t\t\t<forenames>C.</forenames>\n",
      "\t\t</author>\n",
      "\t\t<author>\n",
      "\t\t\t<keyname>Santoso</keyname>\n",
      "\t\t\t<forenames>I.</forenames>\n",
      "\t\t</author>\n",
      "\t</authors>\n",
      "\t<title>Superconductivity by Kinetic Energy Saving?</title>\n",
      "\t<categories>cond-mat.supr-con cond-mat.str-el</categories>\n",
      "\t<comments>11 pages, ReVTeX, 7 figures in encapsulated postscript</comments>\n",
      "\t<journal-ref>in &quot;Concepts in electron correlation&quot;, Edited by A. Hewson and V.\n",
      "  Zlatic, Kluwer (2003), p 7-16</journal-ref>\n",
      "\t<abstract>  A brief introduction is given in the generic microscopic framework of\n",
      "superconductivity. The consequences for the temperature dependence of the\n",
      "kinetic energy, and the correlation energy are discussed for two cases: The BCS\n",
      "scenario and the non-Fermi liquid scenario. A quantitative comparison is made\n",
      "between the BCS-prediction for d-wave pairing in a band with nearest neighbor\n",
      "and next-nearest neighbor hoppping and the experimental specific heat and the\n",
      "optical intraband spectral weight along the plane. We show that the\n",
      "BCS-prediction produces the wrong sign for the kink at Tc of the intraband\n",
      "spectral weight, even though the model calculation agrees well with the\n",
      "specific heat.\n",
      "</abstract>\n",
      "</arXiv>\n",
      "\n"
     ]
    }
   ],
   "source": [
    "doc = minidom.parse(fn[2])\n",
    "print(doc.toprettyxml())"
   ]
  },
  {
   "cell_type": "code",
   "execution_count": 5,
   "metadata": {},
   "outputs": [],
   "source": [
    "def get_author_text(doc):\n",
    "    authorlist = []\n",
    "    authortext = \"\"\n",
    "    for author in doc.getElementsByTagName(\"authors\")[0].childNodes:\n",
    "        keyname = author.getElementsByTagName(\"keyname\")[0].firstChild.data\n",
    "        try:\n",
    "            forenames = author.getElementsByTagName(\"forenames\")[0].firstChild.data\n",
    "        except:\n",
    "            forenames = \"\"\n",
    "        authortext += forenames + \" \" + keyname + \", \"\n",
    "        authorlist.append(forenames + \" \" + keyname)\n",
    "    return authortext[:-2].replace(\"  \", \" \"), authorlist"
   ]
  },
  {
   "cell_type": "code",
   "execution_count": 6,
   "metadata": {},
   "outputs": [
    {
     "data": {
      "text/plain": [
       "('D. van der Marel, H. J. A. Molegraaf, C. Presura, I. Santoso',\n",
       " ['D. van der Marel', 'H. J. A. Molegraaf', 'C. Presura', 'I. Santoso'])"
      ]
     },
     "execution_count": 6,
     "metadata": {},
     "output_type": "execute_result"
    }
   ],
   "source": [
    "get_author_text(doc)"
   ]
  },
  {
   "cell_type": "code",
   "execution_count": 7,
   "metadata": {},
   "outputs": [
    {
     "name": "stdout",
     "output_type": "stream",
     "text": [
      "25000\n",
      "50000\n",
      "75000\n",
      "100000\n",
      "125000\n",
      "150000\n",
      "175000\n",
      "200000\n",
      "225000\n",
      "250000\n",
      "275000\n",
      "300000\n",
      "325000\n",
      "350000\n",
      "375000\n",
      "400000\n",
      "425000\n",
      "450000\n",
      "475000\n",
      "500000\n",
      "525000\n",
      "550000\n",
      "575000\n",
      "600000\n",
      "625000\n",
      "650000\n",
      "675000\n",
      "700000\n",
      "725000\n",
      "750000\n",
      "775000\n",
      "800000\n",
      "825000\n",
      "850000\n",
      "875000\n",
      "900000\n",
      "925000\n",
      "950000\n",
      "975000\n",
      "1000000\n",
      "1025000\n",
      "1050000\n",
      "1075000\n",
      "1100000\n",
      "1125000\n",
      "1150000\n",
      "1175000\n",
      "1200000\n",
      "1225000\n",
      "1250000\n",
      "1275000\n",
      "1300000\n",
      "1325000\n",
      "1350000\n",
      "1375000\n",
      "1400000\n",
      "1425000\n"
     ]
    }
   ],
   "source": [
    "df_list = []\n",
    "dates = []\n",
    "for file in fn[1:]:\n",
    "    \n",
    "    doc = minidom.parse(file)\n",
    "    title = doc.getElementsByTagName(\"title\")[0].firstChild.data\n",
    "    arxivid = doc.getElementsByTagName(\"id\")[0].firstChild.data\n",
    "    created = doc.getElementsByTagName(\"created\")[0].firstChild.data\n",
    "    categories = doc.getElementsByTagName(\"categories\")[0].firstChild.data\n",
    "    abstract = doc.getElementsByTagName(\"abstract\")[0].firstChild.data\n",
    "    \n",
    "    author_text, author_list = get_author_text(doc)\n",
    "    \n",
    "    num_authors = len(author_list)\n",
    "    \n",
    "    num_categories = len(categories.split(\" \"))\n",
    "    \n",
    "    try:\n",
    "        updated = doc.getElementsByTagName(\"updated\")[0].firstChild.data\n",
    "    except IndexError:\n",
    "        updated = np.nan\n",
    "        \n",
    "    try:\n",
    "        doi = doc.getElementsByTagName(\"doi\")[0].firstChild.data\n",
    "    except IndexError:\n",
    "        doi = np.nan \n",
    "        \n",
    "        \n",
    "    if 'cs.LG' in categories:\n",
    "        cslg = 1\n",
    "    else:\n",
    "        cslg = 0\n",
    "    \n",
    "    if 'cs.AI' in categories:\n",
    "        csai = 1\n",
    "    else:\n",
    "        csai = 0\n",
    "    \n",
    "    if 'stat.ML' in categories:\n",
    "        statml = 1\n",
    "    else:\n",
    "        statml = 0\n",
    "    \n",
    "    if 'cs.CL' in categories:\n",
    "        cscl = 1\n",
    "    else:\n",
    "        cscl = 0\n",
    "        \n",
    "    if 'cs.SI' in categories:\n",
    "        cssi = 1\n",
    "    else:\n",
    "        cssi = 0\n",
    "    \n",
    "    if sum([cslg,csai,cscl,cssi,statml]) > 0:\n",
    "        anymlcat = 1\n",
    "    else:\n",
    "        anymlcat = 0\n",
    "        \n",
    "        \n",
    "    row = {\n",
    "           'title':title,\n",
    "           'updated':updated,\n",
    "           'arxiv_id':arxivid,\n",
    "           'created':created,\n",
    "           'categories':categories.split(\" \"),\n",
    "           'num_categories':num_categories,\n",
    "           'abstract':abstract,\n",
    "           'doi':doi,\n",
    "           'cs.LG':cslg,\n",
    "           'cs.AI':csai,\n",
    "           'cs.CL':cscl,\n",
    "           'cs.SI':cssi,\n",
    "           'stat.ML':statml,\n",
    "           'anymlcat':anymlcat,\n",
    "           'author_text':author_text,\n",
    "           'num_authors':num_authors\n",
    "    }\n",
    "    \n",
    "    df_list.append(row)\n",
    "    \n",
    "    if len(df_list) % 25000 is 0:\n",
    "        print(len(df_list))"
   ]
  },
  {
   "cell_type": "code",
   "execution_count": 8,
   "metadata": {
    "collapsed": true
   },
   "outputs": [],
   "source": [
    "df = pd.DataFrame(df_list)"
   ]
  },
  {
   "cell_type": "code",
   "execution_count": 9,
   "metadata": {},
   "outputs": [
    {
     "data": {
      "text/plain": [
       "1437617"
      ]
     },
     "execution_count": 9,
     "metadata": {},
     "output_type": "execute_result"
    }
   ],
   "source": [
    "len(df)"
   ]
  },
  {
   "cell_type": "code",
   "execution_count": 10,
   "metadata": {},
   "outputs": [
    {
     "name": "stdout",
     "output_type": "stream",
     "text": [
      "2494     CDF Collaboration, D0 Collaboration, TEVNPHWG\n",
      "Name: author_text, dtype: object\n"
     ]
    }
   ],
   "source": [
    "print(df.query(\"arxiv_id == '1207.2757'\").author_text)"
   ]
  },
  {
   "cell_type": "code",
   "execution_count": 11,
   "metadata": {
    "collapsed": true
   },
   "outputs": [],
   "source": [
    "df_anyml = df.query(\"anymlcat == 1\")"
   ]
  },
  {
   "cell_type": "code",
   "execution_count": 12,
   "metadata": {},
   "outputs": [
    {
     "data": {
      "text/plain": [
       "56051"
      ]
     },
     "execution_count": 12,
     "metadata": {},
     "output_type": "execute_result"
    }
   ],
   "source": [
    "len(df_anyml)"
   ]
  },
  {
   "cell_type": "code",
   "execution_count": 13,
   "metadata": {},
   "outputs": [
    {
     "name": "stderr",
     "output_type": "stream",
     "text": [
      "/home/staeiou/conda/lib/python3.5/site-packages/pandas/core/generic.py:1282: PerformanceWarning: \n",
      "your performance may suffer as PyTables will pickle object types that it cannot\n",
      "map directly to c-types [inferred_type->mixed,key->block1_values] [items->['abstract', 'arxiv_id', 'author_text', 'categories', 'created', 'doi', 'title', 'updated']]\n",
      "\n",
      "  return pytables.to_hdf(path_or_buf, key, self, **kwargs)\n"
     ]
    }
   ],
   "source": [
    "df.to_csv(\"processed_data/arxiv-oai-af.tsv\", sep=\"\\t\")\n",
    "df.to_hdf(\"processed_data/arxiv-oai-af.h5\", key='df')\n"
   ]
  },
  {
   "cell_type": "code",
   "execution_count": 14,
   "metadata": {},
   "outputs": [
    {
     "name": "stderr",
     "output_type": "stream",
     "text": [
      "/home/staeiou/conda/lib/python3.5/site-packages/pandas/core/generic.py:1282: PerformanceWarning: \n",
      "your performance may suffer as PyTables will pickle object types that it cannot\n",
      "map directly to c-types [inferred_type->mixed,key->block1_values] [items->['abstract', 'arxiv_id', 'author_text', 'categories', 'created', 'doi', 'title', 'updated']]\n",
      "\n",
      "  return pytables.to_hdf(path_or_buf, key, self, **kwargs)\n"
     ]
    }
   ],
   "source": [
    "df_anyml.to_csv(\"processed_data/arxiv-oai-af-anyml.tsv\", sep=\"\\t\")\n",
    "df_anyml.to_hdf(\"processed_data/arxiv-oai-af-anyml.h5\", key='df')"
   ]
  }
 ],
 "metadata": {
  "kernelspec": {
   "display_name": "Python [default]",
   "language": "python",
   "name": "python3"
  },
  "language_info": {
   "codemirror_mode": {
    "name": "ipython",
    "version": 3
   },
   "file_extension": ".py",
   "mimetype": "text/x-python",
   "name": "python",
   "nbconvert_exporter": "python",
   "pygments_lexer": "ipython3",
   "version": "3.5.4"
  }
 },
 "nbformat": 4,
 "nbformat_minor": 2
}
